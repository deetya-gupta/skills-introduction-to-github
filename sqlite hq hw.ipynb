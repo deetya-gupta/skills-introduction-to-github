{
 "cells": [
  {
   "cell_type": "code",
   "execution_count": 20,
   "id": "a7e97e7d-2e0c-4980-b946-bcf905c15119",
   "metadata": {},
   "outputs": [
    {
     "name": "stdout",
     "output_type": "stream",
     "text": [
      "Database created and connected!\n"
     ]
    }
   ],
   "source": [
    "import sqlite3\n",
    "\n",
    "# Create or connect to an SQLite database\n",
    "connection = sqlite3.connect('student_grades.db')\n",
    "\n",
    "# Check if the connection was successful\n",
    "print(\"Database created and connected!\")"
   ]
  },
  {
   "cell_type": "code",
   "execution_count": 22,
   "id": "b89ad943-603a-4d5d-ac77-0c40d9d95dfe",
   "metadata": {},
   "outputs": [
    {
     "name": "stdout",
     "output_type": "stream",
     "text": [
      "Cursor created!\n"
     ]
    }
   ],
   "source": [
    "# Create a cursor object\n",
    "cursor = connection.cursor()\n",
    "\n",
    "# Explanation\n",
    "print(\"Cursor created!\")"
   ]
  },
  {
   "cell_type": "code",
   "execution_count": 24,
   "id": "0f7c5088-9e4f-4811-82a4-5e9302da7cea",
   "metadata": {},
   "outputs": [
    {
     "name": "stdout",
     "output_type": "stream",
     "text": [
      "Students table created!\n",
      "Grades table created!\n"
     ]
    }
   ],
   "source": [
    "# Create the students table\n",
    "cursor.execute('''\n",
    "CREATE TABLE IF NOT EXISTS students (\n",
    "    student_id INTEGER PRIMARY KEY AUTOINCREMENT,\n",
    "    first_name TEXT,\n",
    "    last_name TEXT\n",
    ")\n",
    "''')\n",
    "\n",
    "print(\"Students table created!\")\n",
    "\n",
    "# Create the grades table\n",
    "cursor.execute('''\n",
    "CREATE TABLE IF NOT EXISTS grades (\n",
    "    grade_id INTEGER PRIMARY KEY AUTOINCREMENT,\n",
    "    student_id INTEGER,\n",
    "    subject TEXT,\n",
    "    grade INTEGER,\n",
    "    FOREIGN KEY (student_id) REFERENCES students(student_id)\n",
    ")\n",
    "''')\n",
    "\n",
    "print(\"Grades table created!\")\n",
    "\n",
    "connection.commit()"
   ]
  },
  {
   "cell_type": "code",
   "execution_count": 26,
   "id": "bb15ad6e-a8fb-4625-b8de-31badf0dac43",
   "metadata": {},
   "outputs": [
    {
     "name": "stdout",
     "output_type": "stream",
     "text": [
      "Data inserted into the students table!\n"
     ]
    }
   ],
   "source": [
    "# Insert into the students table\n",
    "students_data = [\n",
    "    ('Alice', 'Smith'),\n",
    "    ('Bob', 'White'),\n",
    "    ('Carol', 'Brown'),\n",
    "    ('David', 'Davis'),\n",
    "    ('Eve', 'Marshal')\n",
    "]\n",
    "\n",
    "# Insert data into the table\n",
    "cursor.executemany('''\n",
    "INSERT INTO students (first_name, last_name) VALUES (?, ?)\n",
    "''', students_data)\n",
    "\n",
    "# Commit the transaction\n",
    "connection.commit()\n",
    "\n",
    "print(\"Data inserted into the students table!\")"
   ]
  },
  {
   "cell_type": "code",
   "execution_count": 28,
   "id": "a3084208-5d0a-4cf8-afb0-ea51a65f8fdd",
   "metadata": {},
   "outputs": [
    {
     "name": "stdout",
     "output_type": "stream",
     "text": [
      "Data inserted into the grades table!\n"
     ]
    }
   ],
   "source": [
    "# Insert into the grades table\n",
    "grades_data = [\n",
    "    (1, 'Math', 95), (1, 'English', 88), (1, 'History', 90),\n",
    "    (2, 'Math', 82), (2, 'English', 76), (2, 'History', 85),\n",
    "    (3, 'Math', 78), (3, 'English', 92), (3, 'History', 88),\n",
    "    (4, 'Math', 85), (4, 'English', 87), (4, 'History', 90),\n",
    "    (5, 'Math', 92), (5, 'English', 94), (5, 'History', 89)\n",
    "]\n",
    "\n",
    "# Insert data into the table\n",
    "cursor.executemany('''\n",
    "INSERT INTO grades (student_id, subject, grade) VALUES (?, ?, ?)\n",
    "''', grades_data)\n",
    "\n",
    "# Commit the transaction\n",
    "connection.commit()\n",
    "\n",
    "print(\"Data inserted into the grades table!\")"
   ]
  },
  {
   "cell_type": "code",
   "execution_count": 30,
   "id": "876d0639-e0b7-4ca4-8a52-711031e31629",
   "metadata": {},
   "outputs": [
    {
     "name": "stdout",
     "output_type": "stream",
     "text": [
      "Joined students and grades details:\n",
      "('Alice', 'Smith', 'Math', 95)\n",
      "('Alice', 'Smith', 'English', 88)\n",
      "('Alice', 'Smith', 'History', 90)\n",
      "('Bob', 'White', 'Math', 82)\n",
      "('Bob', 'White', 'English', 76)\n",
      "('Bob', 'White', 'History', 85)\n",
      "('Carol', 'Brown', 'Math', 78)\n",
      "('Carol', 'Brown', 'English', 92)\n",
      "('Carol', 'Brown', 'History', 88)\n",
      "('David', 'Davis', 'Math', 85)\n",
      "('David', 'Davis', 'English', 87)\n",
      "('David', 'Davis', 'History', 90)\n",
      "('Eve', 'Marshal', 'Math', 92)\n",
      "('Eve', 'Marshal', 'English', 94)\n",
      "('Eve', 'Marshal', 'History', 89)\n"
     ]
    }
   ],
   "source": [
    "# Retrieve students' names and their grades\n",
    "cursor.execute('''\n",
    "SELECT students.first_name, students.last_name, grades.subject, grades.grade\n",
    "FROM students\n",
    "JOIN grades ON students.student_id = grades.student_id\n",
    "''')\n",
    "# Fetch and display the results\n",
    "joined_data = cursor.fetchall()\n",
    "\n",
    "print(\"Joined students and grades details:\")\n",
    "for row in joined_data:\n",
    "    print(row)"
   ]
  },
  {
   "cell_type": "code",
   "execution_count": 32,
   "id": "53f4a2db-77b5-4b3f-be26-34e50b57ff83",
   "metadata": {},
   "outputs": [
    {
     "name": "stdout",
     "output_type": "stream",
     "text": [
      "Average grade for each student:\n",
      "('Alice', 'Smith', 91.0)\n",
      "('Bob', 'White', 81.0)\n",
      "('Carol', 'Brown', 86.0)\n",
      "('David', 'Davis', 87.33333333333333)\n",
      "('Eve', 'Marshal', 91.66666666666667)\n"
     ]
    }
   ],
   "source": [
    "# Average grade for each student\n",
    "cursor.execute('''\n",
    "SELECT students.first_name, students.last_name, AVG(grades.grade) as average_grade\n",
    "FROM students\n",
    "JOIN grades ON students.student_id = grades.student_id\n",
    "GROUP BY students.student_id\n",
    "''')\n",
    "average_grade = cursor.fetchall()\n",
    "print(\"Average grade for each student:\")\n",
    "for row in average_grade:\n",
    "    print(row)"
   ]
  },
  {
   "cell_type": "code",
   "execution_count": 34,
   "id": "6cd55f93-5373-48d7-a4c8-d94163e613d6",
   "metadata": {},
   "outputs": [
    {
     "name": "stdout",
     "output_type": "stream",
     "text": [
      "Student with the highest average grade: Eve\n"
     ]
    }
   ],
   "source": [
    "# Student with the highest average grade\n",
    "cursor.execute('''\n",
    "SELECT students.first_name, students.last_name\n",
    "FROM students\n",
    "JOIN grades ON students.student_id = grades.student_id\n",
    "GROUP BY students.student_id\n",
    "ORDER BY AVG(grade) DESC\n",
    "LIMIT 1\n",
    "''')\n",
    "best_student = cursor.fetchone()\n",
    "print(f\"Student with the highest average grade: {best_student[0]}\")"
   ]
  },
  {
   "cell_type": "code",
   "execution_count": 36,
   "id": "c8de51bd-abe2-4c5f-9d83-4ebf6a154883",
   "metadata": {},
   "outputs": [
    {
     "name": "stdout",
     "output_type": "stream",
     "text": [
      "Average Math grade: 86.4\n"
     ]
    }
   ],
   "source": [
    "# Average Math grade\n",
    "cursor.execute('''\n",
    "SELECT AVG(grade) FROM grades WHERE subject = \"Math\"\n",
    "''')\n",
    "average_math = cursor.fetchone()\n",
    "print(f\"Average Math grade: {average_math[0]}\")"
   ]
  },
  {
   "cell_type": "code",
   "execution_count": 38,
   "id": "f5125000-b184-41cf-8e53-3cb65015a4ee",
   "metadata": {},
   "outputs": [
    {
     "name": "stdout",
     "output_type": "stream",
     "text": [
      "Students who scored above 90 in any subject:\n",
      "('Alice', 'Smith', 'Math', 95)\n",
      "('Carol', 'Brown', 'English', 92)\n",
      "('Eve', 'Marshal', 'Math', 92)\n",
      "('Eve', 'Marshal', 'English', 94)\n"
     ]
    }
   ],
   "source": [
    "# Students who scored above 90 in any subject\n",
    "cursor.execute('''\n",
    "SELECT students.first_name, students.last_name, grades.subject, grades.grade\n",
    "FROM students\n",
    "JOIN grades ON students.student_id = grades.student_id\n",
    "WHERE grades.grade > 90\n",
    "''')\n",
    "top_scorers = cursor.fetchall()\n",
    "print(\"Students who scored above 90 in any subject:\")\n",
    "for row in top_scorers:\n",
    "    print(row)"
   ]
  },
  {
   "cell_type": "code",
   "execution_count": 40,
   "id": "4fc60890-74e2-43aa-a0ae-6891160bf3ee",
   "metadata": {},
   "outputs": [
    {
     "data": {
      "text/html": [
       "<div>\n",
       "<style scoped>\n",
       "    .dataframe tbody tr th:only-of-type {\n",
       "        vertical-align: middle;\n",
       "    }\n",
       "\n",
       "    .dataframe tbody tr th {\n",
       "        vertical-align: top;\n",
       "    }\n",
       "\n",
       "    .dataframe thead th {\n",
       "        text-align: right;\n",
       "    }\n",
       "</style>\n",
       "<table border=\"1\" class=\"dataframe\">\n",
       "  <thead>\n",
       "    <tr style=\"text-align: right;\">\n",
       "      <th></th>\n",
       "      <th>first_name</th>\n",
       "      <th>last_name</th>\n",
       "      <th>subject</th>\n",
       "      <th>grade</th>\n",
       "    </tr>\n",
       "  </thead>\n",
       "  <tbody>\n",
       "    <tr>\n",
       "      <th>0</th>\n",
       "      <td>Alice</td>\n",
       "      <td>Smith</td>\n",
       "      <td>Math</td>\n",
       "      <td>95</td>\n",
       "    </tr>\n",
       "    <tr>\n",
       "      <th>1</th>\n",
       "      <td>Alice</td>\n",
       "      <td>Smith</td>\n",
       "      <td>English</td>\n",
       "      <td>88</td>\n",
       "    </tr>\n",
       "    <tr>\n",
       "      <th>2</th>\n",
       "      <td>Alice</td>\n",
       "      <td>Smith</td>\n",
       "      <td>History</td>\n",
       "      <td>90</td>\n",
       "    </tr>\n",
       "    <tr>\n",
       "      <th>3</th>\n",
       "      <td>Bob</td>\n",
       "      <td>White</td>\n",
       "      <td>Math</td>\n",
       "      <td>82</td>\n",
       "    </tr>\n",
       "    <tr>\n",
       "      <th>4</th>\n",
       "      <td>Bob</td>\n",
       "      <td>White</td>\n",
       "      <td>English</td>\n",
       "      <td>76</td>\n",
       "    </tr>\n",
       "    <tr>\n",
       "      <th>5</th>\n",
       "      <td>Bob</td>\n",
       "      <td>White</td>\n",
       "      <td>History</td>\n",
       "      <td>85</td>\n",
       "    </tr>\n",
       "    <tr>\n",
       "      <th>6</th>\n",
       "      <td>Carol</td>\n",
       "      <td>Brown</td>\n",
       "      <td>Math</td>\n",
       "      <td>78</td>\n",
       "    </tr>\n",
       "    <tr>\n",
       "      <th>7</th>\n",
       "      <td>Carol</td>\n",
       "      <td>Brown</td>\n",
       "      <td>English</td>\n",
       "      <td>92</td>\n",
       "    </tr>\n",
       "    <tr>\n",
       "      <th>8</th>\n",
       "      <td>Carol</td>\n",
       "      <td>Brown</td>\n",
       "      <td>History</td>\n",
       "      <td>88</td>\n",
       "    </tr>\n",
       "    <tr>\n",
       "      <th>9</th>\n",
       "      <td>David</td>\n",
       "      <td>Davis</td>\n",
       "      <td>Math</td>\n",
       "      <td>85</td>\n",
       "    </tr>\n",
       "    <tr>\n",
       "      <th>10</th>\n",
       "      <td>David</td>\n",
       "      <td>Davis</td>\n",
       "      <td>English</td>\n",
       "      <td>87</td>\n",
       "    </tr>\n",
       "    <tr>\n",
       "      <th>11</th>\n",
       "      <td>David</td>\n",
       "      <td>Davis</td>\n",
       "      <td>History</td>\n",
       "      <td>90</td>\n",
       "    </tr>\n",
       "    <tr>\n",
       "      <th>12</th>\n",
       "      <td>Eve</td>\n",
       "      <td>Marshal</td>\n",
       "      <td>Math</td>\n",
       "      <td>92</td>\n",
       "    </tr>\n",
       "    <tr>\n",
       "      <th>13</th>\n",
       "      <td>Eve</td>\n",
       "      <td>Marshal</td>\n",
       "      <td>English</td>\n",
       "      <td>94</td>\n",
       "    </tr>\n",
       "    <tr>\n",
       "      <th>14</th>\n",
       "      <td>Eve</td>\n",
       "      <td>Marshal</td>\n",
       "      <td>History</td>\n",
       "      <td>89</td>\n",
       "    </tr>\n",
       "  </tbody>\n",
       "</table>\n",
       "</div>"
      ],
      "text/plain": [
       "   first_name last_name  subject  grade\n",
       "0       Alice     Smith     Math     95\n",
       "1       Alice     Smith  English     88\n",
       "2       Alice     Smith  History     90\n",
       "3         Bob     White     Math     82\n",
       "4         Bob     White  English     76\n",
       "5         Bob     White  History     85\n",
       "6       Carol     Brown     Math     78\n",
       "7       Carol     Brown  English     92\n",
       "8       Carol     Brown  History     88\n",
       "9       David     Davis     Math     85\n",
       "10      David     Davis  English     87\n",
       "11      David     Davis  History     90\n",
       "12        Eve   Marshal     Math     92\n",
       "13        Eve   Marshal  English     94\n",
       "14        Eve   Marshal  History     89"
      ]
     },
     "execution_count": 40,
     "metadata": {},
     "output_type": "execute_result"
    }
   ],
   "source": [
    "# Load data into Pandas DataFrames\n",
    "import pandas as pd\n",
    "students_df = pd.read_sql_query('SELECT * FROM students', connection)\n",
    "grades_df = pd.read_sql_query('SELECT * FROM grades', connection)\n",
    "\n",
    "# Join students and grades data\n",
    "combined_df = pd.read_sql_query('''\n",
    "SELECT students.first_name, students.last_name, grades.subject, grades.grade\n",
    "FROM students\n",
    "JOIN grades ON students.student_id = grades.student_id\n",
    "''', connection)\n",
    "\n",
    "combined_df"
   ]
  },
  {
   "cell_type": "code",
   "execution_count": 42,
   "id": "0ed1b66b-4823-4e35-add8-9bff1462a10c",
   "metadata": {},
   "outputs": [
    {
     "data": {
      "image/png": "[encoded data removed]",
      "text/plain": [
       "<Figure size 640x480 with 1 Axes>"
      ]
     },
     "metadata": {},
     "output_type": "display_data"
    },
    {
     "data": {
      "image/png": "[encoded data removed]",
      "text/plain": [
       "<Figure size 640x480 with 1 Axes>"
      ]
     },
     "metadata": {},
     "output_type": "display_data"
    }
   ],
   "source": [
    "import matplotlib.pyplot as plt\n",
    "\n",
    "# 1. Plot average grades for each student\n",
    "average_grades = combined_df.groupby(['first_name', 'last_name'])['grade'].mean()\n",
    "average_grades.plot(kind='bar')\n",
    "plt.xlabel('Student')\n",
    "plt.ylabel('Average Grade')\n",
    "plt.title('Average Grade for each Student')\n",
    "plt.show()\n",
    "\n",
    "# 2. Create a bar chart showing the average grade for each subject\n",
    "average_subject = combined_df.groupby('subject')['grade'].mean()\n",
    "average_subject.plot(kind='bar')\n",
    "plt.xlabel('Subject')\n",
    "plt.ylabel('Average Grade')\n",
    "plt.title('Average Grade for each Subject')\n",
    "plt.show()"
   ]
  },
  {
   "cell_type": "code",
   "execution_count": 44,
   "id": "2daaa037-873b-46e8-819a-8e07d5f2e983",
   "metadata": {},
   "outputs": [],
   "source": [
    "connection.close()"
   ]
  },
  {
   "cell_type": "code",
   "execution_count": null,
   "id": "21c300d6-8e20-4f7c-b9ed-e78b9fdf6218",
   "metadata": {},
   "outputs": [],
   "source": []
  }
 ],
 "metadata": {
  "kernelspec": {
   "display_name": "Python 3 (ipykernel)",
   "language": "python",
   "name": "python3"
  },
  "language_info": {
   "codemirror_mode": {
    "name": "ipython",
    "version": 3
   },
   "file_extension": ".py",
   "mimetype": "text/x-python",
   "name": "python",
   "nbconvert_exporter": "python",
   "pygments_lexer": "ipython3",
   "version": "3.12.4"
  }
 },
 "nbformat": 4,
 "nbformat_minor": 5
}
